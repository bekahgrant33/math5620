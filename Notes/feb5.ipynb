{
 "cells": [
  {
   "attachments": {},
   "cell_type": "markdown",
   "metadata": {},
   "source": [
    "# 1. Construct coeff ODE\n",
    "\n",
    " $ay^{''} + by^{'} + cy =0$\n",
    "\n",
    " Assume: \n",
    " $$y = e^{rx}$$\n",
    " $$y^{'} = re^{rx}$$\n",
    " $$y^{\"} = r^{2} e^{rx}$$\n",
    " $$(ar^{2} + br + c) e^{rx}=0$$\n",
    "\n",
    "\n",
    " $ar^2 + br + c = 0$\n",
    " $r = \\frac{-b +- \\sqrt{b^{2}- 4ac}}{2a} = r1,r2$"
   ]
  },
  {
   "attachments": {},
   "cell_type": "markdown",
   "metadata": {},
   "source": [
    "# 3\n",
    "\n",
    "1- $r_{1} \\neq r_{2} \\rightarrow y_1 = e^{r_{1}x}, y_2 = e^{r_{2}x}\\\\$\n",
    "2- $r_{1} = r_{2} \\rightarrow y_1 = e^{r_{1}x}, y_2 = e^{r_{1}x}\\\\$\n",
    "3- $r= \\alpha + \\beta \\rightarrow y_1 = e^{\\alpha \\beta }\\cos(\\beta \\alpha), y_2 = e^{\\alpha \\beta} \\sin{\\beta \\alpha}\\\\$"
   ]
  },
  {
   "attachments": {},
   "cell_type": "markdown",
   "metadata": {},
   "source": [
    "As\n",
    "\n",
    "$ax^{2}y^{\"} + bxy^{'} + cy =0\\\\$\n",
    "\n",
    "assume:$y = x^{r}$\n",
    "\n",
    "so if,\n",
    " $$\\frac{du}{dt} = au$$\n",
    " $$u(t_0) = \\alpha$$\n",
    "\n",
    " $$\\approx \\frac{u(t+h)- u(t)}{h} = a \\cdot u(t) + error$$"
   ]
  },
  {
   "attachments": {},
   "cell_type": "markdown",
   "metadata": {},
   "source": [
    "$"
   ]
  },
  {
   "attachments": {},
   "cell_type": "markdown",
   "metadata": {},
   "source": [
    "....."
   ]
  },
  {
   "attachments": {},
   "cell_type": "markdown",
   "metadata": {},
   "source": [
    "# EX: $aU_{j+1}+ bU_{j} + cU_{j+1}= 0\\\\$\n",
    "\n",
    "Assume: $$U_{j} = z^{j}$$\n",
    "\n",
    "$\\Rightarrow az^{j+1} + bz^{j} + cz^{j-1} = 0\\\\$\n",
    "$(az^{2} + bz + c)z^{j-1} = 0\\\\$\n",
    "\n",
    "$az^2 + bz +c =0\\\\$\n",
    "\n",
    "$$z = \\frac{-b +/- \\sqrt{b^2 - 4ac}}{2a}$$\n",
    "$$ z_1 = \\frac{-b + \\sqrt{b^2 - 4ac}}{2a} , z_2= \\frac{-b - \\sqrt{b^2 - 4ac}}{2a}$$\n",
    "\n",
    "$y_1 = (\\frac{-b +\\sqrt{b^2 - 4ac}}{2a})^{j} = z_{1}^{j}\\\\$\n",
    "$y_2 = (\\frac{-b - \\sqrt{b^2 - 4ac}}{2a})^{j} = z_{2}^{j}\\\\$\n",
    "\n",
    "$$U_{j} = Bz_{1}^{j} + Cz_{2}^{j}$$\n",
    "\n",
    "## The problem at hand: Find $\\lambda$ such that, \n",
    "$$Av = \\lambda v$$\n",
    "\n",
    "$$\\begin{equation}\n",
    "    \\begin{cases}\n",
    "      c v_{j-1} + (h - \\lambda)v_{j} + bv_{j-1}\\\\\n",
    "      v_{0} = 0\\\\\n",
    "      v_{m+1} = 0 \\\\\n",
    "    \\end{cases}\\,.\n",
    "\\end{equation}$$"
   ]
  },
  {
   "cell_type": "markdown",
   "metadata": {},
   "source": []
  },
  {
   "attachments": {},
   "cell_type": "markdown",
   "metadata": {},
   "source": [
    "$$v_{j} = Bz_{1}^{j} + Cz_{2}^{j}$$\n",
    "\n",
    "# for B and C arbitraryt constants,\n",
    "# The roots of the vvrhiorihhihio are given by \n",
    "\n",
    "$$c+ (\\alpha \\lambda)z + bz^2= 0$$\n",
    "\n",
    "$v_0 = B+C \\Rightarrow C=-B\\\\$\n",
    "$V_{m+1} = Bz_{1}^{m+1} + Cz_{2}^{m+1} = 0\\\\$\n",
    "$ = Bz_{1}^{m+1} + Bz_{2}^{m+1} = 0\\\\$\n",
    "$\\Rightarrow z_{1}^{m+1} = z_{2}^{m+1}\\\\$\n",
    "$\\frac{z_{1}^{m+1}}{ z_{2}^{m+1}} = 1 = e^{i(25\\pi)} = \\frac{z_{1}}{ z_{2}}^{m+1}\\\\$\n",
    "\n",
    "The \n",
    "$$\\frac{z_{1}}{z_{2}} = e^{i\\frac{25\\pi}{m+1}}$$\n",
    "...../\n",
    "\n",
    "\n"
   ]
  },
  {
   "cell_type": "markdown",
   "metadata": {},
   "source": []
  },
  {
   "attachments": {},
   "cell_type": "markdown",
   "metadata": {},
   "source": [
    "$$\\begin{equation}\n",
    "    \\begin{cases}\n",
    "      z_{1} = (\\frac{c}{b})^{\\frac{1}{2}} e^{i\\frac{25\\pi}{m+1}}\\\\\n",
    "      z_{2} = (\\frac{c}{b}^{\\frac{1}{2}} e^{i\\frac{25\\pi}{m+1}}\\\\\n",
    "    \\end{cases}\n",
    "\\end{equation}$$\n",
    "\n",
    "$$z_1 + z_2 = \\frac{u-\\lambda}{b}$$\n",
    "$$\\lambda = b(z_{1} + z_{2}) + a$$\n",
    "...\n",
    "$$\\lambda = a + 2b(\\frac{c}{b})^{\\frac{1}{2}cos(efhip)}$$\n",
    "\n"
   ]
  },
  {
   "attachments": {},
   "cell_type": "markdown",
   "metadata": {},
   "source": [
    "# $$A^{h}U^{h} = F^{h}$$\n",
    "$$\\begin{equation}\n",
    "    \\begin{cases}\n",
    "      ||\\tau||_{2} \\leq ch^p , p>>0\\\\\n",
    "      ||A^{-1}||_{2}\\leq C\n",
    "    \\end{cases}\n",
    "\\end{equation}$$\n"
   ]
  },
  {
   "cell_type": "markdown",
   "metadata": {},
   "source": []
  },
  {
   "attachments": {},
   "cell_type": "markdown",
   "metadata": {},
   "source": [
    "# Ex: \n",
    "$$\\begin{equation}\n",
    "    \\begin{cases}\n",
    "      u^{\"} = f\\\\\n",
    "      u(0) =\\alpha \\\\\n",
    "      u(1) = \\beta\\\\\n",
    "    \\end{cases}\n",
    "\\end{equation}$$\n",
    "\n",
    "suppose we use a central 4th order difference quotient u\"\n",
    "\n",
    "$$u^{\"} - a_{-2}U_{j-2} + a_{-1} U_{j-1} + a_{0}U_{j} + a_{1} U{j+1} + a_{2}U_{j+2}$$\n",
    "therefor use 4th order\n",
    "\n"
   ]
  }
 ],
 "metadata": {
  "language_info": {
   "name": "python"
  },
  "orig_nbformat": 4
 },
 "nbformat": 4,
 "nbformat_minor": 2
}
